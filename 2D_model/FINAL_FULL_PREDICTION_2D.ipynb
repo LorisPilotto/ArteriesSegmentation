{
 "cells": [
  {
   "cell_type": "code",
   "execution_count": 1,
   "metadata": {},
   "outputs": [],
   "source": [
    "#notebook in full screen\n",
    "from IPython.core.display import display, HTML\n",
    "display(HTML(\"<style>.container { width:100% !important; }</style>\"))"
   ]
  },
  {
   "cell_type": "code",
   "execution_count": 1,
   "metadata": {},
   "outputs": [
    {
     "name": "stdout",
     "output_type": "stream",
     "text": [
      "[name: \"/device:CPU:0\"\n",
      "device_type: \"CPU\"\n",
      "memory_limit: 268435456\n",
      "locality {\n",
      "}\n",
      "incarnation: 3120261049939984318\n",
      ", name: \"/device:XLA_CPU:0\"\n",
      "device_type: \"XLA_CPU\"\n",
      "memory_limit: 17179869184\n",
      "locality {\n",
      "}\n",
      "incarnation: 12127040301595700841\n",
      "physical_device_desc: \"device: XLA_CPU device\"\n",
      ", name: \"/device:GPU:0\"\n",
      "device_type: \"GPU\"\n",
      "memory_limit: 7046801664\n",
      "locality {\n",
      "  bus_id: 1\n",
      "  links {\n",
      "  }\n",
      "}\n",
      "incarnation: 3653860738700450165\n",
      "physical_device_desc: \"device: 0, name: GeForce GTX 1070, pci bus id: 0000:01:00.0, compute capability: 6.1\"\n",
      ", name: \"/device:XLA_GPU:0\"\n",
      "device_type: \"XLA_GPU\"\n",
      "memory_limit: 17179869184\n",
      "locality {\n",
      "}\n",
      "incarnation: 15580141694552630830\n",
      "physical_device_desc: \"device: XLA_GPU device\"\n",
      "]\n"
     ]
    }
   ],
   "source": [
    "import matplotlib.pyplot as plt\n",
    "import numpy as np\n",
    "import matplotlib\n",
    "import os\n",
    "\n",
    "#if we need to read the image from a ZIP file:\n",
    "import zipfile\n",
    "import nrrd\n",
    "\n",
    "#TensorFlow:\n",
    "import tensorflow as tf\n",
    "from tensorflow import keras\n",
    "##check for GPU\n",
    "from tensorflow.python.client import device_lib\n",
    "print(device_lib.list_local_devices())\n",
    "#tqdm (tune the verbose)\n",
    "from tqdm.keras import TqdmCallback\n",
    "#tensorflow addons:\n",
    "import tensorflow_addons as tfa"
   ]
  },
  {
   "cell_type": "markdown",
   "metadata": {},
   "source": [
    "# Loading the data:"
   ]
  },
  {
   "cell_type": "code",
   "execution_count": 2,
   "metadata": {},
   "outputs": [],
   "source": [
    "#load data:\n",
    "normalized_test_inputs = np.load('preprocessed_numpy_arrays/not_shuffled_normalized_test_inputs.npy')"
   ]
  },
  {
   "cell_type": "markdown",
   "metadata": {},
   "source": [
    "# Load the model:"
   ]
  },
  {
   "cell_type": "code",
   "execution_count": 3,
   "metadata": {},
   "outputs": [],
   "source": [
    "def softDiceAndBinCrossEntropy_loss(y_true, y_pred):\n",
    "    ###################################################y_true = tf.dtypes.cast(y_true, tf.float32)\n",
    "    y_true_f = tf.reshape(y_true, [-1])\n",
    "    y_pred_f = tf.reshape(y_pred, [-1])\n",
    "    intersection = tf.reduce_sum(y_true_f * y_pred_f)\n",
    "    softDice = (2. * intersection + 1.) / (tf.reduce_sum(y_true_f) + tf.reduce_sum(y_pred_f) + 1.)\n",
    "    #we do 1-softDice since we minimize the loss but softDice need to be maximized\n",
    "    softDice_loss = 1. - softDice\n",
    "    \n",
    "    bce = tf.keras.losses.BinaryCrossentropy()\n",
    "\n",
    "    return (softDice_loss+bce(y_true, y_pred))/2.\n",
    "\n",
    "\n",
    "\n",
    "def softIoU(y_true, y_pred):\n",
    "    ###################################################y_true = tf.dtypes.cast(y_true, tf.float32)\n",
    "    numerator = tf.reduce_sum(tf.math.multiply(y_true, y_pred))\n",
    "    denominator = tf.reduce_sum(tf.math.subtract(tf.math.add(y_true, y_pred), tf.math.multiply(y_true, y_pred)))\n",
    "    return tf.math.divide(numerator, denominator)"
   ]
  },
  {
   "cell_type": "code",
   "execution_count": 4,
   "metadata": {},
   "outputs": [],
   "source": [
    "#load the trained model:\n",
    "model = tf.keras.models.load_model('saved_model/models_combined_UNET_lossDiceAndBinCrossEntr_metricIoU_dropLayers_dataAugmentFull_40EPOCH', custom_objects={'softIoU':softIoU, 'softDiceAndBinCrossEntropy_loss':softDiceAndBinCrossEntropy_loss})"
   ]
  },
  {
   "cell_type": "markdown",
   "metadata": {},
   "source": [
    "# Do prediction:"
   ]
  },
  {
   "cell_type": "code",
   "execution_count": 5,
   "metadata": {},
   "outputs": [
    {
     "data": {
      "text/plain": [
       "(332, 512, 512, 1)"
      ]
     },
     "execution_count": 5,
     "metadata": {},
     "output_type": "execute_result"
    }
   ],
   "source": [
    "result = np.zeros(normalized_test_inputs.shape)\n",
    "result.shape"
   ]
  },
  {
   "cell_type": "code",
   "execution_count": 6,
   "metadata": {},
   "outputs": [
    {
     "name": "stdout",
     "output_type": "stream",
     "text": [
      "1th slice over 330 slices\n",
      "2th slice over 330 slices\n",
      "3th slice over 330 slices\n",
      "4th slice over 330 slices\n",
      "5th slice over 330 slices\n",
      "6th slice over 330 slices\n",
      "7th slice over 330 slices\n",
      "8th slice over 330 slices\n",
      "9th slice over 330 slices\n",
      "10th slice over 330 slices\n",
      "11th slice over 330 slices\n",
      "12th slice over 330 slices\n",
      "13th slice over 330 slices\n",
      "14th slice over 330 slices\n",
      "15th slice over 330 slices\n",
      "16th slice over 330 slices\n",
      "17th slice over 330 slices\n",
      "18th slice over 330 slices\n",
      "19th slice over 330 slices\n",
      "20th slice over 330 slices\n",
      "21th slice over 330 slices\n",
      "22th slice over 330 slices\n",
      "23th slice over 330 slices\n",
      "24th slice over 330 slices\n",
      "25th slice over 330 slices\n",
      "26th slice over 330 slices\n",
      "27th slice over 330 slices\n",
      "28th slice over 330 slices\n",
      "29th slice over 330 slices\n",
      "30th slice over 330 slices\n",
      "31th slice over 330 slices\n",
      "32th slice over 330 slices\n",
      "33th slice over 330 slices\n",
      "34th slice over 330 slices\n",
      "35th slice over 330 slices\n",
      "36th slice over 330 slices\n",
      "37th slice over 330 slices\n",
      "38th slice over 330 slices\n",
      "39th slice over 330 slices\n",
      "40th slice over 330 slices\n",
      "41th slice over 330 slices\n",
      "42th slice over 330 slices\n",
      "43th slice over 330 slices\n",
      "44th slice over 330 slices\n",
      "45th slice over 330 slices\n",
      "46th slice over 330 slices\n",
      "47th slice over 330 slices\n",
      "48th slice over 330 slices\n",
      "49th slice over 330 slices\n",
      "50th slice over 330 slices\n",
      "51th slice over 330 slices\n",
      "52th slice over 330 slices\n",
      "53th slice over 330 slices\n",
      "54th slice over 330 slices\n",
      "55th slice over 330 slices\n",
      "56th slice over 330 slices\n",
      "57th slice over 330 slices\n",
      "58th slice over 330 slices\n",
      "59th slice over 330 slices\n",
      "60th slice over 330 slices\n",
      "61th slice over 330 slices\n",
      "62th slice over 330 slices\n",
      "63th slice over 330 slices\n",
      "64th slice over 330 slices\n",
      "65th slice over 330 slices\n",
      "66th slice over 330 slices\n",
      "67th slice over 330 slices\n",
      "68th slice over 330 slices\n",
      "69th slice over 330 slices\n",
      "70th slice over 330 slices\n",
      "71th slice over 330 slices\n",
      "72th slice over 330 slices\n",
      "73th slice over 330 slices\n",
      "74th slice over 330 slices\n",
      "75th slice over 330 slices\n",
      "76th slice over 330 slices\n",
      "77th slice over 330 slices\n",
      "78th slice over 330 slices\n",
      "79th slice over 330 slices\n",
      "80th slice over 330 slices\n",
      "81th slice over 330 slices\n",
      "82th slice over 330 slices\n",
      "83th slice over 330 slices\n",
      "84th slice over 330 slices\n",
      "85th slice over 330 slices\n",
      "86th slice over 330 slices\n",
      "87th slice over 330 slices\n",
      "88th slice over 330 slices\n",
      "89th slice over 330 slices\n",
      "90th slice over 330 slices\n",
      "91th slice over 330 slices\n",
      "92th slice over 330 slices\n",
      "93th slice over 330 slices\n",
      "94th slice over 330 slices\n",
      "95th slice over 330 slices\n",
      "96th slice over 330 slices\n",
      "97th slice over 330 slices\n",
      "98th slice over 330 slices\n",
      "99th slice over 330 slices\n",
      "100th slice over 330 slices\n",
      "101th slice over 330 slices\n",
      "102th slice over 330 slices\n",
      "103th slice over 330 slices\n",
      "104th slice over 330 slices\n",
      "105th slice over 330 slices\n",
      "106th slice over 330 slices\n",
      "107th slice over 330 slices\n",
      "108th slice over 330 slices\n",
      "109th slice over 330 slices\n",
      "110th slice over 330 slices\n",
      "111th slice over 330 slices\n",
      "112th slice over 330 slices\n",
      "113th slice over 330 slices\n",
      "114th slice over 330 slices\n",
      "115th slice over 330 slices\n",
      "116th slice over 330 slices\n",
      "117th slice over 330 slices\n",
      "118th slice over 330 slices\n",
      "119th slice over 330 slices\n",
      "120th slice over 330 slices\n",
      "121th slice over 330 slices\n",
      "122th slice over 330 slices\n",
      "123th slice over 330 slices\n",
      "124th slice over 330 slices\n",
      "125th slice over 330 slices\n",
      "126th slice over 330 slices\n",
      "127th slice over 330 slices\n",
      "128th slice over 330 slices\n",
      "129th slice over 330 slices\n",
      "130th slice over 330 slices\n",
      "131th slice over 330 slices\n",
      "132th slice over 330 slices\n",
      "133th slice over 330 slices\n",
      "134th slice over 330 slices\n",
      "135th slice over 330 slices\n",
      "136th slice over 330 slices\n",
      "137th slice over 330 slices\n",
      "138th slice over 330 slices\n",
      "139th slice over 330 slices\n",
      "140th slice over 330 slices\n",
      "141th slice over 330 slices\n",
      "142th slice over 330 slices\n",
      "143th slice over 330 slices\n",
      "144th slice over 330 slices\n",
      "145th slice over 330 slices\n",
      "146th slice over 330 slices\n",
      "147th slice over 330 slices\n",
      "148th slice over 330 slices\n",
      "149th slice over 330 slices\n",
      "150th slice over 330 slices\n",
      "151th slice over 330 slices\n",
      "152th slice over 330 slices\n",
      "153th slice over 330 slices\n",
      "154th slice over 330 slices\n",
      "155th slice over 330 slices\n",
      "156th slice over 330 slices\n",
      "157th slice over 330 slices\n",
      "158th slice over 330 slices\n",
      "159th slice over 330 slices\n",
      "160th slice over 330 slices\n",
      "161th slice over 330 slices\n",
      "162th slice over 330 slices\n",
      "163th slice over 330 slices\n",
      "164th slice over 330 slices\n",
      "165th slice over 330 slices\n",
      "166th slice over 330 slices\n",
      "167th slice over 330 slices\n",
      "168th slice over 330 slices\n",
      "169th slice over 330 slices\n",
      "170th slice over 330 slices\n",
      "171th slice over 330 slices\n",
      "172th slice over 330 slices\n",
      "173th slice over 330 slices\n",
      "174th slice over 330 slices\n",
      "175th slice over 330 slices\n",
      "176th slice over 330 slices\n",
      "177th slice over 330 slices\n",
      "178th slice over 330 slices\n",
      "179th slice over 330 slices\n",
      "180th slice over 330 slices\n",
      "181th slice over 330 slices\n",
      "182th slice over 330 slices\n",
      "183th slice over 330 slices\n",
      "184th slice over 330 slices\n",
      "185th slice over 330 slices\n",
      "186th slice over 330 slices\n",
      "187th slice over 330 slices\n",
      "188th slice over 330 slices\n",
      "189th slice over 330 slices\n",
      "190th slice over 330 slices\n",
      "191th slice over 330 slices\n",
      "192th slice over 330 slices\n",
      "193th slice over 330 slices\n",
      "194th slice over 330 slices\n",
      "195th slice over 330 slices\n",
      "196th slice over 330 slices\n",
      "197th slice over 330 slices\n",
      "198th slice over 330 slices\n",
      "199th slice over 330 slices\n",
      "200th slice over 330 slices\n",
      "201th slice over 330 slices\n",
      "202th slice over 330 slices\n",
      "203th slice over 330 slices\n",
      "204th slice over 330 slices\n",
      "205th slice over 330 slices\n",
      "206th slice over 330 slices\n",
      "207th slice over 330 slices\n",
      "208th slice over 330 slices\n",
      "209th slice over 330 slices\n",
      "210th slice over 330 slices\n",
      "211th slice over 330 slices\n",
      "212th slice over 330 slices\n",
      "213th slice over 330 slices\n",
      "214th slice over 330 slices\n",
      "215th slice over 330 slices\n",
      "216th slice over 330 slices\n",
      "217th slice over 330 slices\n",
      "218th slice over 330 slices\n",
      "219th slice over 330 slices\n",
      "220th slice over 330 slices\n",
      "221th slice over 330 slices\n",
      "222th slice over 330 slices\n",
      "223th slice over 330 slices\n",
      "224th slice over 330 slices\n",
      "225th slice over 330 slices\n",
      "226th slice over 330 slices\n",
      "227th slice over 330 slices\n",
      "228th slice over 330 slices\n",
      "229th slice over 330 slices\n",
      "230th slice over 330 slices\n",
      "231th slice over 330 slices\n",
      "232th slice over 330 slices\n",
      "233th slice over 330 slices\n",
      "234th slice over 330 slices\n",
      "235th slice over 330 slices\n",
      "236th slice over 330 slices\n",
      "237th slice over 330 slices\n",
      "238th slice over 330 slices\n",
      "239th slice over 330 slices\n",
      "240th slice over 330 slices\n",
      "241th slice over 330 slices\n",
      "242th slice over 330 slices\n",
      "243th slice over 330 slices\n",
      "244th slice over 330 slices\n",
      "245th slice over 330 slices\n",
      "246th slice over 330 slices\n",
      "247th slice over 330 slices\n",
      "248th slice over 330 slices\n",
      "249th slice over 330 slices\n",
      "250th slice over 330 slices\n",
      "251th slice over 330 slices\n",
      "252th slice over 330 slices\n",
      "253th slice over 330 slices\n",
      "254th slice over 330 slices\n",
      "255th slice over 330 slices\n",
      "256th slice over 330 slices\n",
      "257th slice over 330 slices\n",
      "258th slice over 330 slices\n",
      "259th slice over 330 slices\n",
      "260th slice over 330 slices\n",
      "261th slice over 330 slices\n",
      "262th slice over 330 slices\n",
      "263th slice over 330 slices\n",
      "264th slice over 330 slices\n",
      "265th slice over 330 slices\n",
      "266th slice over 330 slices\n",
      "267th slice over 330 slices\n",
      "268th slice over 330 slices\n",
      "269th slice over 330 slices\n",
      "270th slice over 330 slices\n",
      "271th slice over 330 slices\n",
      "272th slice over 330 slices\n",
      "273th slice over 330 slices\n",
      "274th slice over 330 slices\n",
      "275th slice over 330 slices\n",
      "276th slice over 330 slices\n",
      "277th slice over 330 slices\n",
      "278th slice over 330 slices\n",
      "279th slice over 330 slices\n",
      "280th slice over 330 slices\n",
      "281th slice over 330 slices\n",
      "282th slice over 330 slices\n",
      "283th slice over 330 slices\n",
      "284th slice over 330 slices\n",
      "285th slice over 330 slices\n",
      "286th slice over 330 slices\n",
      "287th slice over 330 slices\n",
      "288th slice over 330 slices\n",
      "289th slice over 330 slices\n",
      "290th slice over 330 slices\n",
      "291th slice over 330 slices\n",
      "292th slice over 330 slices\n",
      "293th slice over 330 slices\n",
      "294th slice over 330 slices\n",
      "295th slice over 330 slices\n",
      "296th slice over 330 slices\n",
      "297th slice over 330 slices\n"
     ]
    },
    {
     "name": "stdout",
     "output_type": "stream",
     "text": [
      "298th slice over 330 slices\n",
      "299th slice over 330 slices\n",
      "300th slice over 330 slices\n",
      "301th slice over 330 slices\n",
      "302th slice over 330 slices\n",
      "303th slice over 330 slices\n",
      "304th slice over 330 slices\n",
      "305th slice over 330 slices\n",
      "306th slice over 330 slices\n",
      "307th slice over 330 slices\n",
      "308th slice over 330 slices\n",
      "309th slice over 330 slices\n",
      "310th slice over 330 slices\n",
      "311th slice over 330 slices\n",
      "312th slice over 330 slices\n",
      "313th slice over 330 slices\n",
      "314th slice over 330 slices\n",
      "315th slice over 330 slices\n",
      "316th slice over 330 slices\n",
      "317th slice over 330 slices\n",
      "318th slice over 330 slices\n",
      "319th slice over 330 slices\n",
      "320th slice over 330 slices\n",
      "321th slice over 330 slices\n",
      "322th slice over 330 slices\n",
      "323th slice over 330 slices\n",
      "324th slice over 330 slices\n",
      "325th slice over 330 slices\n",
      "326th slice over 330 slices\n",
      "327th slice over 330 slices\n",
      "328th slice over 330 slices\n",
      "329th slice over 330 slices\n",
      "330th slice over 330 slices\n",
      "331th slice over 330 slices\n",
      "332th slice over 330 slices\n"
     ]
    }
   ],
   "source": [
    "for sliceIndex in np.arange(0, result.shape[0]):#iterate throught all slices and add their prediction to the result 3D array\n",
    "    tmpPrediction = model.predict(tf.convert_to_tensor([normalized_test_inputs[sliceIndex]], dtype=tf.float64)).round()\n",
    "    result[sliceIndex]=tmpPrediction[0]\n",
    "    print(str(sliceIndex+1)+\"th slice over \"+str(result.shape[0]-2)+\" slices\")"
   ]
  },
  {
   "cell_type": "code",
   "execution_count": 7,
   "metadata": {},
   "outputs": [],
   "source": [
    "result = result.reshape(normalized_test_inputs.shape[:-1]).astype(bool).astype(int)#gives desired final shape & 0,1 values"
   ]
  },
  {
   "cell_type": "markdown",
   "metadata": {},
   "source": [
    "# Quick visualization:"
   ]
  },
  {
   "cell_type": "code",
   "execution_count": 8,
   "metadata": {},
   "outputs": [
    {
     "data": {
      "image/png": "[encoded data removed]",
      "text/plain": [
       "<Figure size 432x288 with 1 Axes>"
      ]
     },
     "metadata": {
      "needs_background": "light"
     },
     "output_type": "display_data"
    },
    {
     "data": {
      "image/png": "[encoded data removed]",
      "text/plain": [
       "<Figure size 432x288 with 1 Axes>"
      ]
     },
     "metadata": {
      "needs_background": "light"
     },
     "output_type": "display_data"
    },
    {
     "data": {
      "image/png": "[encoded data removed]",
      "text/plain": [
       "<Figure size 432x288 with 1 Axes>"
      ]
     },
     "metadata": {
      "needs_background": "light"
     },
     "output_type": "display_data"
    },
    {
     "data": {
      "image/png": "[encoded data removed]",
      "text/plain": [
       "<Figure size 432x288 with 1 Axes>"
      ]
     },
     "metadata": {
      "needs_background": "light"
     },
     "output_type": "display_data"
    },
    {
     "data": {
      "image/png": "[encoded data removed]",
      "text/plain": [
       "<Figure size 432x288 with 1 Axes>"
      ]
     },
     "metadata": {
      "needs_background": "light"
     },
     "output_type": "display_data"
    },
    {
     "data": {
      "image/png": "[encoded data removed]",
      "text/plain": [
       "<Figure size 432x288 with 1 Axes>"
      ]
     },
     "metadata": {
      "needs_background": "light"
     },
     "output_type": "display_data"
    },
    {
     "data": {
      "image/png": "[encoded data removed]",
      "text/plain": [
       "<Figure size 432x288 with 1 Axes>"
      ]
     },
     "metadata": {
      "needs_background": "light"
     },
     "output_type": "display_data"
    },
    {
     "data": {
      "image/png": "[encoded data removed]",
      "text/plain": [
       "<Figure size 432x288 with 1 Axes>"
      ]
     },
     "metadata": {
      "needs_background": "light"
     },
     "output_type": "display_data"
    },
    {
     "data": {
      "image/png": "[encoded data removed]",
      "text/plain": [
       "<Figure size 432x288 with 1 Axes>"
      ]
     },
     "metadata": {
      "needs_background": "light"
     },
     "output_type": "display_data"
    },
    {
     "data": {
      "image/png": "[encoded data removed]",
      "text/plain": [
       "<Figure size 432x288 with 1 Axes>"
      ]
     },
     "metadata": {
      "needs_background": "light"
     },
     "output_type": "display_data"
    },
    {
     "data": {
      "image/png": "[encoded data removed]",
      "text/plain": [
       "<Figure size 432x288 with 1 Axes>"
      ]
     },
     "metadata": {
      "needs_background": "light"
     },
     "output_type": "display_data"
    },
    {
     "data": {
      "image/png": "[encoded data removed]",
      "text/plain": [
       "<Figure size 432x288 with 1 Axes>"
      ]
     },
     "metadata": {
      "needs_background": "light"
     },
     "output_type": "display_data"
    },
    {
     "data": {
      "image/png": "[encoded data removed]",
      "text/plain": [
       "<Figure size 432x288 with 1 Axes>"
      ]
     },
     "metadata": {
      "needs_background": "light"
     },
     "output_type": "display_data"
    },
    {
     "data": {
      "image/png": "[encoded data removed]",
      "text/plain": [
       "<Figure size 432x288 with 1 Axes>"
      ]
     },
     "metadata": {
      "needs_background": "light"
     },
     "output_type": "display_data"
    }
   ],
   "source": [
    "for sliceIndex in np.arange(0, result.shape[0], 25):\n",
    "    plt.title('Slice nbr '+str(sliceIndex))\n",
    "    plt.imshow(result[sliceIndex], cmap=\"gray\") \n",
    "    plt.show() "
   ]
  },
  {
   "cell_type": "markdown",
   "metadata": {},
   "source": [
    "# Save prediction:"
   ]
  },
  {
   "cell_type": "code",
   "execution_count": 10,
   "metadata": {},
   "outputs": [],
   "source": [
    "nrrd.write('predictions/predictedMask_2D.nrrd', result, index_order=\"C\")"
   ]
  }
 ],
 "metadata": {
  "kernelspec": {
   "display_name": "Python 3",
   "language": "python",
   "name": "python3"
  },
  "language_info": {
   "codemirror_mode": {
    "name": "ipython",
    "version": 3
   },
   "file_extension": ".py",
   "mimetype": "text/x-python",
   "name": "python",
   "nbconvert_exporter": "python",
   "pygments_lexer": "ipython3",
   "version": "3.7.4"
  },
  "toc": {
   "base_numbering": 1,
   "nav_menu": {},
   "number_sections": true,
   "sideBar": true,
   "skip_h1_title": false,
   "title_cell": "Table of Contents",
   "title_sidebar": "Contents",
   "toc_cell": true,
   "toc_position": {},
   "toc_section_display": true,
   "toc_window_display": false
  }
 },
 "nbformat": 4,
 "nbformat_minor": 2
}
